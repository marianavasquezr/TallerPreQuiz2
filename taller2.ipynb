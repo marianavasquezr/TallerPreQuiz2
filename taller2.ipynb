{
 "cells": [
  {
   "cell_type": "code",
   "execution_count": 3,
   "metadata": {},
   "outputs": [],
   "source": [
    "import pandas as pd\n",
    "import matplotlib.pyplot as plt\n",
    "import numpy as np\n",
    "import scipy.io as sio"
   ]
  },
  {
   "cell_type": "code",
   "execution_count": 5,
   "metadata": {},
   "outputs": [
    {
     "name": "stdout",
     "output_type": "stream",
     "text": [
      "La forma de la matriz 4D es: (40, 10, 30, 100)\n",
      "El tamaño de la matriz 4D es: 1200000\n"
     ]
    }
   ],
   "source": [
    "#1. Crear una matriz de Numpy aleatoria de 4 dimensiones y un size de 1200000 \n",
    "dim1 = 40\n",
    "dim2 = 10\n",
    "dim3 = 30\n",
    "dim4 = 100\n",
    "size = dim1 * dim2 * dim3 * dim4\n",
    "matriz4d = np.random.rand(dim1, dim2, dim3, dim4)\n",
    "print(f\"La forma de la matriz 4D es: {matriz4d.shape}\")\n",
    "print(f\"El tamaño de la matriz 4D es: {matriz4d.size}\")"
   ]
  },
  {
   "cell_type": "code",
   "execution_count": null,
   "metadata": {},
   "outputs": [],
   "source": []
  }
 ],
 "metadata": {
  "kernelspec": {
   "display_name": "base",
   "language": "python",
   "name": "python3"
  },
  "language_info": {
   "codemirror_mode": {
    "name": "ipython",
    "version": 3
   },
   "file_extension": ".py",
   "mimetype": "text/x-python",
   "name": "python",
   "nbconvert_exporter": "python",
   "pygments_lexer": "ipython3",
   "version": "3.11.5"
  }
 },
 "nbformat": 4,
 "nbformat_minor": 2
}

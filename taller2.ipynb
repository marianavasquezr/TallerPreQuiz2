{
 "cells": [
  {
   "cell_type": "code",
   "execution_count": 3,
   "metadata": {},
   "outputs": [],
   "source": [
    "import pandas as pd\n",
    "import matplotlib.pyplot as plt\n",
    "import numpy as np\n",
    "import scipy.io as sio"
   ]
  },
  {
   "cell_type": "code",
   "execution_count": 6,
   "metadata": {},
   "outputs": [
    {
     "name": "stdout",
     "output_type": "stream",
     "text": [
      "La forma de la matriz 4D es: (40, 10, 30, 100)\n",
      "El tamaño de la matriz 4D es: 1200000\n"
     ]
    }
   ],
   "source": [
    "#1. Crear una matriz de Numpy aleatoria de 4 dimensiones y un size de 1200000 \n",
    "dim1 = 40\n",
    "dim2 = 10\n",
    "dim3 = 30\n",
    "dim4 = 100\n",
    "size = dim1 * dim2 * dim3 * dim4\n",
    "matriz4d = np.random.rand(dim1, dim2, dim3, dim4)\n",
    "print(f\"La forma de la matriz 4D es: {matriz4d.shape}\")\n",
    "print(f\"El tamaño de la matriz 4D es: {matriz4d.size}\")\n"
   ]
  },
  {
   "cell_type": "code",
   "execution_count": 11,
   "metadata": {},
   "outputs": [
    {
     "name": "stdout",
     "output_type": "stream",
     "text": [
      "La forma de la matriz 3D es: (40, 10, 30)\n",
      "El tamaño de la matriz 3D es: 12000\n"
     ]
    }
   ],
   "source": [
    "#2. Crea una copia de la matriz creada en el ítem anterior(usar método copy)de solo 3 dimensiones (“Cortando una de las dimensiones”)\n",
    "matriz3d = matriz4d[:,:,:,1].copy() #indexe la matriz original y tome una sola rebanada de esas 4 d1mensiones\n",
    "print(f\"La forma de la matriz 3D es: {matriz3d.shape}\")\n",
    "print(f\"El tamaño de la matriz 3D es: {matriz3d.size}\")"
   ]
  },
  {
   "cell_type": "code",
   "execution_count": 15,
   "metadata": {},
   "outputs": [
    {
     "name": "stdout",
     "output_type": "stream",
     "text": [
      "La forma de la matriz de 3D es: (40, 10, 30)\n",
      "Tamaño de la matriz 3D es: 12000\n",
      "Dimensiones matriz 3D es: 3\n"
     ]
    }
   ],
   "source": [
    "#3. De la matriz 3D, muestra todos los atributos propios de dicha matriz , dimensión, tamaño, etc..\n",
    "print(f\"La forma de la matriz de 3D es: {matriz3d.shape}\")\n",
    "print(f\"Tamaño de la matriz 3D es: {matriz3d.size}\")\n",
    "print(f\"Dimensiones matriz 3D es: {matriz3d.ndim}\")"
   ]
  },
  {
   "cell_type": "code",
   "execution_count": null,
   "metadata": {},
   "outputs": [],
   "source": []
  }
 ],
 "metadata": {
  "kernelspec": {
   "display_name": "base",
   "language": "python",
   "name": "python3"
  },
  "language_info": {
   "codemirror_mode": {
    "name": "ipython",
    "version": 3
   },
   "file_extension": ".py",
   "mimetype": "text/x-python",
   "name": "python",
   "nbconvert_exporter": "python",
   "pygments_lexer": "ipython3",
   "version": "3.11.5"
  }
 },
 "nbformat": 4,
 "nbformat_minor": 2
}
